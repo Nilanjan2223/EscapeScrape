{
  "nbformat": 4,
  "nbformat_minor": 0,
  "metadata": {
    "colab": {
      "provenance": [],
      "mount_file_id": "14t8Ll3qLjrdu9Gp_6cA7D50IJ-9kyPSx",
      "authorship_tag": "ABX9TyPfGYBLdOfUOVopXnNKTErN",
      "include_colab_link": true
    },
    "kernelspec": {
      "name": "python3",
      "display_name": "Python 3"
    },
    "language_info": {
      "name": "python"
    }
  },
  "cells": [
    {
      "cell_type": "markdown",
      "metadata": {
        "id": "view-in-github",
        "colab_type": "text"
      },
      "source": [
        "<a href=\"https://colab.research.google.com/github/Nilanjan2223/EscapeScrape/blob/main/Web_Scrapping.ipynb\" target=\"_parent\"><img src=\"https://colab.research.google.com/assets/colab-badge.svg\" alt=\"Open In Colab\"/></a>"
      ]
    },
    {
      "cell_type": "code",
      "source": [
        "!pip install jason"
      ],
      "metadata": {
        "colab": {
          "base_uri": "https://localhost:8080/"
        },
        "id": "eWBtmt-w7zbD",
        "outputId": "c2b82f03-1cd3-4994-8f68-ddaaeb983ee5"
      },
      "execution_count": 1,
      "outputs": [
        {
          "output_type": "stream",
          "name": "stdout",
          "text": [
            "Collecting jason\n",
            "  Downloading jason-0.1.7.tar.gz (2.4 kB)\n",
            "  Preparing metadata (setup.py) ... \u001b[?25l\u001b[?25hdone\n",
            "Building wheels for collected packages: jason\n",
            "  Building wheel for jason (setup.py) ... \u001b[?25l\u001b[?25hdone\n",
            "  Created wheel for jason: filename=jason-0.1.7-py3-none-any.whl size=2622 sha256=839b04a824490922abd7c7ba13ecb98533a89c1c17aaf19ecd4abbd7fe36781d\n",
            "  Stored in directory: /root/.cache/pip/wheels/ac/9f/46/8de9cb09a2e1ce351d964e3f5df3e7d9cb7229522cb212ff1b\n",
            "Successfully built jason\n",
            "Installing collected packages: jason\n",
            "Successfully installed jason-0.1.7\n"
          ]
        }
      ]
    },
    {
      "cell_type": "code",
      "source": [
        "!pip install requests beautifulsoup4 pandas\n"
      ],
      "metadata": {
        "colab": {
          "base_uri": "https://localhost:8080/"
        },
        "id": "Tu-YBCDxAWid",
        "outputId": "e0152a6f-a5e5-4691-a381-eb0ef64f435c"
      },
      "execution_count": 2,
      "outputs": [
        {
          "output_type": "stream",
          "name": "stdout",
          "text": [
            "Requirement already satisfied: requests in /usr/local/lib/python3.10/dist-packages (2.32.3)\n",
            "Requirement already satisfied: beautifulsoup4 in /usr/local/lib/python3.10/dist-packages (4.12.3)\n",
            "Requirement already satisfied: pandas in /usr/local/lib/python3.10/dist-packages (2.1.4)\n",
            "Requirement already satisfied: charset-normalizer<4,>=2 in /usr/local/lib/python3.10/dist-packages (from requests) (3.3.2)\n",
            "Requirement already satisfied: idna<4,>=2.5 in /usr/local/lib/python3.10/dist-packages (from requests) (3.7)\n",
            "Requirement already satisfied: urllib3<3,>=1.21.1 in /usr/local/lib/python3.10/dist-packages (from requests) (2.0.7)\n",
            "Requirement already satisfied: certifi>=2017.4.17 in /usr/local/lib/python3.10/dist-packages (from requests) (2024.7.4)\n",
            "Requirement already satisfied: soupsieve>1.2 in /usr/local/lib/python3.10/dist-packages (from beautifulsoup4) (2.5)\n",
            "Requirement already satisfied: numpy<2,>=1.22.4 in /usr/local/lib/python3.10/dist-packages (from pandas) (1.26.4)\n",
            "Requirement already satisfied: python-dateutil>=2.8.2 in /usr/local/lib/python3.10/dist-packages (from pandas) (2.8.2)\n",
            "Requirement already satisfied: pytz>=2020.1 in /usr/local/lib/python3.10/dist-packages (from pandas) (2024.1)\n",
            "Requirement already satisfied: tzdata>=2022.1 in /usr/local/lib/python3.10/dist-packages (from pandas) (2024.1)\n",
            "Requirement already satisfied: six>=1.5 in /usr/local/lib/python3.10/dist-packages (from python-dateutil>=2.8.2->pandas) (1.16.0)\n"
          ]
        }
      ]
    },
    {
      "cell_type": "code",
      "source": [
        "!pip install playwright\n"
      ],
      "metadata": {
        "colab": {
          "base_uri": "https://localhost:8080/"
        },
        "id": "JSvMfSXPBu6c",
        "outputId": "fb7f560a-2836-48ba-a5f6-370956adf87c"
      },
      "execution_count": 3,
      "outputs": [
        {
          "output_type": "stream",
          "name": "stdout",
          "text": [
            "Collecting playwright\n",
            "  Downloading playwright-1.45.1-py3-none-manylinux1_x86_64.whl.metadata (3.5 kB)\n",
            "Requirement already satisfied: greenlet==3.0.3 in /usr/local/lib/python3.10/dist-packages (from playwright) (3.0.3)\n",
            "Collecting pyee==11.1.0 (from playwright)\n",
            "  Downloading pyee-11.1.0-py3-none-any.whl.metadata (2.8 kB)\n",
            "Requirement already satisfied: typing-extensions in /usr/local/lib/python3.10/dist-packages (from pyee==11.1.0->playwright) (4.12.2)\n",
            "Downloading playwright-1.45.1-py3-none-manylinux1_x86_64.whl (37.9 MB)\n",
            "\u001b[2K   \u001b[90m━━━━━━━━━━━━━━━━━━━━━━━━━━━━━━━━━━━━━━━━\u001b[0m \u001b[32m37.9/37.9 MB\u001b[0m \u001b[31m10.8 MB/s\u001b[0m eta \u001b[36m0:00:00\u001b[0m\n",
            "\u001b[?25hDownloading pyee-11.1.0-py3-none-any.whl (15 kB)\n",
            "Installing collected packages: pyee, playwright\n",
            "Successfully installed playwright-1.45.1 pyee-11.1.0\n"
          ]
        }
      ]
    },
    {
      "cell_type": "code",
      "source": [
        "!playwright install"
      ],
      "metadata": {
        "colab": {
          "base_uri": "https://localhost:8080/"
        },
        "id": "OS7rpCdSDg5n",
        "outputId": "3abc3907-35c4-4b35-b248-a232b0f4bb18"
      },
      "execution_count": 4,
      "outputs": [
        {
          "output_type": "stream",
          "name": "stdout",
          "text": [
            "Downloading Chromium 127.0.6533.17 (playwright build v1124)\u001b[2m from https://playwright.azureedge.net/builds/chromium/1124/chromium-linux.zip\u001b[22m\n",
            "\u001b[1G161.3 MiB [] 0% 0.0s\u001b[0K\u001b[1G161.3 MiB [] 0% 56.1s\u001b[0K\u001b[1G161.3 MiB [] 0% 22.5s\u001b[0K\u001b[1G161.3 MiB [] 0% 29.2s\u001b[0K\u001b[1G161.3 MiB [] 0% 32.2s\u001b[0K\u001b[1G161.3 MiB [] 0% 30.5s\u001b[0K\u001b[1G161.3 MiB [] 0% 24.2s\u001b[0K\u001b[1G161.3 MiB [] 0% 21.0s\u001b[0K\u001b[1G161.3 MiB [] 1% 17.8s\u001b[0K\u001b[1G161.3 MiB [] 1% 15.8s\u001b[0K\u001b[1G161.3 MiB [] 1% 14.9s\u001b[0K\u001b[1G161.3 MiB [] 1% 13.9s\u001b[0K\u001b[1G161.3 MiB [] 2% 13.3s\u001b[0K\u001b[1G161.3 MiB [] 2% 12.7s\u001b[0K\u001b[1G161.3 MiB [] 2% 12.4s\u001b[0K\u001b[1G161.3 MiB [] 2% 12.7s\u001b[0K\u001b[1G161.3 MiB [] 2% 12.2s\u001b[0K\u001b[1G161.3 MiB [] 3% 11.9s\u001b[0K\u001b[1G161.3 MiB [] 3% 10.8s\u001b[0K\u001b[1G161.3 MiB [] 3% 11.1s\u001b[0K\u001b[1G161.3 MiB [] 4% 10.5s\u001b[0K\u001b[1G161.3 MiB [] 4% 10.3s\u001b[0K\u001b[1G161.3 MiB [] 4% 10.1s\u001b[0K\u001b[1G161.3 MiB [] 4% 10.0s\u001b[0K\u001b[1G161.3 MiB [] 5% 9.6s\u001b[0K\u001b[1G161.3 MiB [] 5% 9.2s\u001b[0K\u001b[1G161.3 MiB [] 5% 9.0s\u001b[0K\u001b[1G161.3 MiB [] 6% 8.9s\u001b[0K\u001b[1G161.3 MiB [] 6% 8.5s\u001b[0K\u001b[1G161.3 MiB [] 7% 8.2s\u001b[0K\u001b[1G161.3 MiB [] 7% 7.9s\u001b[0K\u001b[1G161.3 MiB [] 7% 7.6s\u001b[0K\u001b[1G161.3 MiB [] 8% 7.2s\u001b[0K\u001b[1G161.3 MiB [] 9% 6.8s\u001b[0K\u001b[1G161.3 MiB [] 9% 6.9s\u001b[0K\u001b[1G161.3 MiB [] 9% 6.6s\u001b[0K\u001b[1G161.3 MiB [] 10% 6.5s\u001b[0K\u001b[1G161.3 MiB [] 10% 6.2s\u001b[0K\u001b[1G161.3 MiB [] 11% 6.0s\u001b[0K\u001b[1G161.3 MiB [] 11% 5.9s\u001b[0K\u001b[1G161.3 MiB [] 12% 5.9s\u001b[0K\u001b[1G161.3 MiB [] 12% 5.7s\u001b[0K\u001b[1G161.3 MiB [] 13% 5.6s\u001b[0K\u001b[1G161.3 MiB [] 13% 5.5s\u001b[0K\u001b[1G161.3 MiB [] 14% 5.4s\u001b[0K\u001b[1G161.3 MiB [] 15% 5.4s\u001b[0K\u001b[1G161.3 MiB [] 15% 5.3s\u001b[0K\u001b[1G161.3 MiB [] 16% 5.2s\u001b[0K\u001b[1G161.3 MiB [] 17% 5.0s\u001b[0K\u001b[1G161.3 MiB [] 17% 4.9s\u001b[0K\u001b[1G161.3 MiB [] 18% 4.8s\u001b[0K\u001b[1G161.3 MiB [] 18% 4.7s\u001b[0K\u001b[1G161.3 MiB [] 19% 4.6s\u001b[0K\u001b[1G161.3 MiB [] 20% 4.4s\u001b[0K\u001b[1G161.3 MiB [] 21% 4.4s\u001b[0K\u001b[1G161.3 MiB [] 21% 4.3s\u001b[0K\u001b[1G161.3 MiB [] 22% 4.3s\u001b[0K\u001b[1G161.3 MiB [] 22% 4.2s\u001b[0K\u001b[1G161.3 MiB [] 23% 4.2s\u001b[0K\u001b[1G161.3 MiB [] 24% 4.2s\u001b[0K\u001b[1G161.3 MiB [] 24% 4.1s\u001b[0K\u001b[1G161.3 MiB [] 25% 4.1s\u001b[0K\u001b[1G161.3 MiB [] 25% 4.0s\u001b[0K\u001b[1G161.3 MiB [] 26% 4.0s\u001b[0K\u001b[1G161.3 MiB [] 26% 3.9s\u001b[0K\u001b[1G161.3 MiB [] 27% 3.9s\u001b[0K\u001b[1G161.3 MiB [] 28% 3.8s\u001b[0K\u001b[1G161.3 MiB [] 28% 3.7s\u001b[0K\u001b[1G161.3 MiB [] 29% 3.7s\u001b[0K\u001b[1G161.3 MiB [] 29% 3.6s\u001b[0K\u001b[1G161.3 MiB [] 30% 3.6s\u001b[0K\u001b[1G161.3 MiB [] 31% 3.5s\u001b[0K\u001b[1G161.3 MiB [] 32% 3.4s\u001b[0K\u001b[1G161.3 MiB [] 33% 3.4s\u001b[0K\u001b[1G161.3 MiB [] 33% 3.3s\u001b[0K\u001b[1G161.3 MiB [] 34% 3.2s\u001b[0K\u001b[1G161.3 MiB [] 35% 3.2s\u001b[0K\u001b[1G161.3 MiB [] 35% 3.1s\u001b[0K\u001b[1G161.3 MiB [] 36% 3.0s\u001b[0K\u001b[1G161.3 MiB [] 37% 3.0s\u001b[0K\u001b[1G161.3 MiB [] 38% 2.9s\u001b[0K\u001b[1G161.3 MiB [] 39% 2.8s\u001b[0K\u001b[1G161.3 MiB [] 40% 2.8s\u001b[0K\u001b[1G161.3 MiB [] 41% 2.7s\u001b[0K\u001b[1G161.3 MiB [] 42% 2.6s\u001b[0K\u001b[1G161.3 MiB [] 43% 2.6s\u001b[0K\u001b[1G161.3 MiB [] 44% 2.5s\u001b[0K\u001b[1G161.3 MiB [] 45% 2.5s\u001b[0K\u001b[1G161.3 MiB [] 46% 2.4s\u001b[0K\u001b[1G161.3 MiB [] 47% 2.3s\u001b[0K\u001b[1G161.3 MiB [] 48% 2.3s\u001b[0K\u001b[1G161.3 MiB [] 49% 2.2s\u001b[0K\u001b[1G161.3 MiB [] 50% 2.1s\u001b[0K\u001b[1G161.3 MiB [] 51% 2.1s\u001b[0K\u001b[1G161.3 MiB [] 52% 2.1s\u001b[0K\u001b[1G161.3 MiB [] 52% 2.0s\u001b[0K\u001b[1G161.3 MiB [] 53% 2.0s\u001b[0K\u001b[1G161.3 MiB [] 54% 2.0s\u001b[0K\u001b[1G161.3 MiB [] 54% 1.9s\u001b[0K\u001b[1G161.3 MiB [] 55% 1.9s\u001b[0K\u001b[1G161.3 MiB [] 56% 1.8s\u001b[0K\u001b[1G161.3 MiB [] 57% 1.8s\u001b[0K\u001b[1G161.3 MiB [] 58% 1.8s\u001b[0K\u001b[1G161.3 MiB [] 58% 1.7s\u001b[0K\u001b[1G161.3 MiB [] 59% 1.7s\u001b[0K\u001b[1G161.3 MiB [] 60% 1.7s\u001b[0K\u001b[1G161.3 MiB [] 61% 1.7s\u001b[0K\u001b[1G161.3 MiB [] 61% 1.6s\u001b[0K\u001b[1G161.3 MiB [] 62% 1.6s\u001b[0K\u001b[1G161.3 MiB [] 63% 1.6s\u001b[0K\u001b[1G161.3 MiB [] 64% 1.5s\u001b[0K\u001b[1G161.3 MiB [] 65% 1.5s\u001b[0K\u001b[1G161.3 MiB [] 66% 1.5s\u001b[0K\u001b[1G161.3 MiB [] 66% 1.4s\u001b[0K\u001b[1G161.3 MiB [] 67% 1.4s\u001b[0K\u001b[1G161.3 MiB [] 68% 1.4s\u001b[0K\u001b[1G161.3 MiB [] 68% 1.3s\u001b[0K\u001b[1G161.3 MiB [] 69% 1.3s\u001b[0K\u001b[1G161.3 MiB [] 70% 1.3s\u001b[0K\u001b[1G161.3 MiB [] 70% 1.2s\u001b[0K\u001b[1G161.3 MiB [] 71% 1.2s\u001b[0K\u001b[1G161.3 MiB [] 72% 1.2s\u001b[0K\u001b[1G161.3 MiB [] 73% 1.2s\u001b[0K\u001b[1G161.3 MiB [] 74% 1.1s\u001b[0K\u001b[1G161.3 MiB [] 75% 1.1s\u001b[0K\u001b[1G161.3 MiB [] 76% 1.1s\u001b[0K\u001b[1G161.3 MiB [] 76% 1.0s\u001b[0K\u001b[1G161.3 MiB [] 77% 1.0s\u001b[0K\u001b[1G161.3 MiB [] 78% 1.0s\u001b[0K\u001b[1G161.3 MiB [] 79% 1.0s\u001b[0K\u001b[1G161.3 MiB [] 79% 0.9s\u001b[0K\u001b[1G161.3 MiB [] 80% 0.9s\u001b[0K\u001b[1G161.3 MiB [] 81% 0.9s\u001b[0K\u001b[1G161.3 MiB [] 82% 0.8s\u001b[0K\u001b[1G161.3 MiB [] 83% 0.8s\u001b[0K\u001b[1G161.3 MiB [] 84% 0.8s\u001b[0K\u001b[1G161.3 MiB [] 84% 0.7s\u001b[0K\u001b[1G161.3 MiB [] 85% 0.7s\u001b[0K\u001b[1G161.3 MiB [] 86% 0.7s\u001b[0K\u001b[1G161.3 MiB [] 86% 0.6s\u001b[0K\u001b[1G161.3 MiB [] 87% 0.6s\u001b[0K\u001b[1G161.3 MiB [] 88% 0.6s\u001b[0K\u001b[1G161.3 MiB [] 88% 0.5s\u001b[0K\u001b[1G161.3 MiB [] 89% 0.5s\u001b[0K\u001b[1G161.3 MiB [] 90% 0.5s\u001b[0K\u001b[1G161.3 MiB [] 91% 0.4s\u001b[0K\u001b[1G161.3 MiB [] 92% 0.4s\u001b[0K\u001b[1G161.3 MiB [] 92% 0.3s\u001b[0K\u001b[1G161.3 MiB [] 93% 0.3s\u001b[0K\u001b[1G161.3 MiB [] 94% 0.3s\u001b[0K\u001b[1G161.3 MiB [] 95% 0.2s\u001b[0K\u001b[1G161.3 MiB [] 96% 0.2s\u001b[0K\u001b[1G161.3 MiB [] 97% 0.1s\u001b[0K\u001b[1G161.3 MiB [] 98% 0.1s\u001b[0K\u001b[1G161.3 MiB [] 99% 0.0s\u001b[0K\u001b[1G161.3 MiB [] 100% 0.0s\u001b[0K\n",
            "Chromium 127.0.6533.17 (playwright build v1124) downloaded to /root/.cache/ms-playwright/chromium-1124\n",
            "Downloading FFMPEG playwright build v1009\u001b[2m from https://playwright.azureedge.net/builds/ffmpeg/1009/ffmpeg-linux.zip\u001b[22m\n",
            "\u001b[1G2.6 MiB [] 0% 0.0s\u001b[0K\u001b[1G2.6 MiB [] 3% 0.5s\u001b[0K\u001b[1G2.6 MiB [] 9% 0.3s\u001b[0K\u001b[1G2.6 MiB [] 20% 0.2s\u001b[0K\u001b[1G2.6 MiB [] 35% 0.1s\u001b[0K\u001b[1G2.6 MiB [] 81% 0.0s\u001b[0K\u001b[1G2.6 MiB [] 100% 0.0s\u001b[0K\n",
            "FFMPEG playwright build v1009 downloaded to /root/.cache/ms-playwright/ffmpeg-1009\n",
            "Downloading Firefox 127.0 (playwright build v1454)\u001b[2m from https://playwright.azureedge.net/builds/firefox/1454/firefox-ubuntu-22.04.zip\u001b[22m\n",
            "\u001b[1G86.6 MiB [] 0% 0.0s\u001b[0K\u001b[1G86.6 MiB [] 0% 16.7s\u001b[0K\u001b[1G86.6 MiB [] 0% 9.9s\u001b[0K\u001b[1G86.6 MiB [] 0% 7.2s\u001b[0K\u001b[1G86.6 MiB [] 1% 6.5s\u001b[0K\u001b[1G86.6 MiB [] 1% 4.7s\u001b[0K\u001b[1G86.6 MiB [] 2% 4.4s\u001b[0K\u001b[1G86.6 MiB [] 3% 3.7s\u001b[0K\u001b[1G86.6 MiB [] 4% 3.1s\u001b[0K\u001b[1G86.6 MiB [] 4% 3.0s\u001b[0K\u001b[1G86.6 MiB [] 5% 3.1s\u001b[0K\u001b[1G86.6 MiB [] 5% 3.0s\u001b[0K\u001b[1G86.6 MiB [] 6% 3.1s\u001b[0K\u001b[1G86.6 MiB [] 6% 2.9s\u001b[0K\u001b[1G86.6 MiB [] 6% 3.1s\u001b[0K\u001b[1G86.6 MiB [] 7% 3.1s\u001b[0K\u001b[1G86.6 MiB [] 8% 2.9s\u001b[0K\u001b[1G86.6 MiB [] 9% 2.9s\u001b[0K\u001b[1G86.6 MiB [] 10% 2.7s\u001b[0K\u001b[1G86.6 MiB [] 11% 2.6s\u001b[0K\u001b[1G86.6 MiB [] 12% 2.5s\u001b[0K\u001b[1G86.6 MiB [] 13% 2.4s\u001b[0K\u001b[1G86.6 MiB [] 14% 2.4s\u001b[0K\u001b[1G86.6 MiB [] 15% 2.3s\u001b[0K\u001b[1G86.6 MiB [] 16% 2.2s\u001b[0K\u001b[1G86.6 MiB [] 17% 2.2s\u001b[0K\u001b[1G86.6 MiB [] 18% 2.1s\u001b[0K\u001b[1G86.6 MiB [] 20% 2.0s\u001b[0K\u001b[1G86.6 MiB [] 21% 1.9s\u001b[0K\u001b[1G86.6 MiB [] 22% 1.9s\u001b[0K\u001b[1G86.6 MiB [] 23% 1.8s\u001b[0K\u001b[1G86.6 MiB [] 24% 1.8s\u001b[0K\u001b[1G86.6 MiB [] 25% 1.8s\u001b[0K\u001b[1G86.6 MiB [] 26% 1.8s\u001b[0K\u001b[1G86.6 MiB [] 27% 1.7s\u001b[0K\u001b[1G86.6 MiB [] 28% 1.7s\u001b[0K\u001b[1G86.6 MiB [] 29% 1.7s\u001b[0K\u001b[1G86.6 MiB [] 30% 1.7s\u001b[0K\u001b[1G86.6 MiB [] 31% 1.6s\u001b[0K\u001b[1G86.6 MiB [] 32% 1.6s\u001b[0K\u001b[1G86.6 MiB [] 34% 1.5s\u001b[0K\u001b[1G86.6 MiB [] 35% 1.5s\u001b[0K\u001b[1G86.6 MiB [] 36% 1.5s\u001b[0K\u001b[1G86.6 MiB [] 36% 1.4s\u001b[0K\u001b[1G86.6 MiB [] 37% 1.4s\u001b[0K\u001b[1G86.6 MiB [] 38% 1.4s\u001b[0K\u001b[1G86.6 MiB [] 39% 1.4s\u001b[0K\u001b[1G86.6 MiB [] 40% 1.3s\u001b[0K\u001b[1G86.6 MiB [] 41% 1.3s\u001b[0K\u001b[1G86.6 MiB [] 42% 1.3s\u001b[0K\u001b[1G86.6 MiB [] 44% 1.2s\u001b[0K\u001b[1G86.6 MiB [] 45% 1.2s\u001b[0K\u001b[1G86.6 MiB [] 46% 1.2s\u001b[0K\u001b[1G86.6 MiB [] 47% 1.2s\u001b[0K\u001b[1G86.6 MiB [] 48% 1.1s\u001b[0K\u001b[1G86.6 MiB [] 49% 1.1s\u001b[0K\u001b[1G86.6 MiB [] 51% 1.1s\u001b[0K\u001b[1G86.6 MiB [] 52% 1.0s\u001b[0K\u001b[1G86.6 MiB [] 53% 1.0s\u001b[0K\u001b[1G86.6 MiB [] 54% 1.0s\u001b[0K\u001b[1G86.6 MiB [] 55% 0.9s\u001b[0K\u001b[1G86.6 MiB [] 56% 0.9s\u001b[0K\u001b[1G86.6 MiB [] 57% 0.9s\u001b[0K\u001b[1G86.6 MiB [] 58% 0.9s\u001b[0K\u001b[1G86.6 MiB [] 59% 0.8s\u001b[0K\u001b[1G86.6 MiB [] 60% 0.8s\u001b[0K\u001b[1G86.6 MiB [] 62% 0.8s\u001b[0K\u001b[1G86.6 MiB [] 63% 0.8s\u001b[0K\u001b[1G86.6 MiB [] 64% 0.7s\u001b[0K\u001b[1G86.6 MiB [] 65% 0.7s\u001b[0K\u001b[1G86.6 MiB [] 66% 0.7s\u001b[0K\u001b[1G86.6 MiB [] 68% 0.6s\u001b[0K\u001b[1G86.6 MiB [] 69% 0.6s\u001b[0K\u001b[1G86.6 MiB [] 70% 0.6s\u001b[0K\u001b[1G86.6 MiB [] 71% 0.6s\u001b[0K\u001b[1G86.6 MiB [] 72% 0.5s\u001b[0K\u001b[1G86.6 MiB [] 73% 0.5s\u001b[0K\u001b[1G86.6 MiB [] 74% 0.5s\u001b[0K\u001b[1G86.6 MiB [] 76% 0.5s\u001b[0K\u001b[1G86.6 MiB [] 77% 0.4s\u001b[0K\u001b[1G86.6 MiB [] 78% 0.4s\u001b[0K\u001b[1G86.6 MiB [] 79% 0.4s\u001b[0K\u001b[1G86.6 MiB [] 80% 0.4s\u001b[0K\u001b[1G86.6 MiB [] 81% 0.4s\u001b[0K\u001b[1G86.6 MiB [] 82% 0.3s\u001b[0K\u001b[1G86.6 MiB [] 83% 0.3s\u001b[0K\u001b[1G86.6 MiB [] 84% 0.3s\u001b[0K\u001b[1G86.6 MiB [] 86% 0.3s\u001b[0K\u001b[1G86.6 MiB [] 87% 0.2s\u001b[0K\u001b[1G86.6 MiB [] 89% 0.2s\u001b[0K\u001b[1G86.6 MiB [] 91% 0.2s\u001b[0K\u001b[1G86.6 MiB [] 92% 0.1s\u001b[0K\u001b[1G86.6 MiB [] 94% 0.1s\u001b[0K\u001b[1G86.6 MiB [] 95% 0.1s\u001b[0K\u001b[1G86.6 MiB [] 96% 0.1s\u001b[0K\u001b[1G86.6 MiB [] 97% 0.0s\u001b[0K\u001b[1G86.6 MiB [] 98% 0.0s\u001b[0K\u001b[1G86.6 MiB [] 99% 0.0s\u001b[0K\u001b[1G86.6 MiB [] 100% 0.0s\u001b[0K\n",
            "Firefox 127.0 (playwright build v1454) downloaded to /root/.cache/ms-playwright/firefox-1454\n",
            "Downloading Webkit 17.4 (playwright build v2035)\u001b[2m from https://playwright.azureedge.net/builds/webkit/2035/webkit-ubuntu-22.04.zip\u001b[22m\n",
            "\u001b[1G86.1 MiB [] 0% 0.0s\u001b[0K\u001b[1G86.1 MiB [] 0% 19.9s\u001b[0K\u001b[1G86.1 MiB [] 0% 11.0s\u001b[0K\u001b[1G86.1 MiB [] 0% 7.8s\u001b[0K\u001b[1G86.1 MiB [] 1% 4.6s\u001b[0K\u001b[1G86.1 MiB [] 2% 3.6s\u001b[0K\u001b[1G86.1 MiB [] 3% 2.9s\u001b[0K\u001b[1G86.1 MiB [] 4% 2.5s\u001b[0K\u001b[1G86.1 MiB [] 5% 2.5s\u001b[0K\u001b[1G86.1 MiB [] 6% 2.3s\u001b[0K\u001b[1G86.1 MiB [] 7% 2.1s\u001b[0K\u001b[1G86.1 MiB [] 8% 2.1s\u001b[0K\u001b[1G86.1 MiB [] 9% 2.0s\u001b[0K\u001b[1G86.1 MiB [] 10% 2.0s\u001b[0K\u001b[1G86.1 MiB [] 11% 2.0s\u001b[0K\u001b[1G86.1 MiB [] 12% 2.0s\u001b[0K\u001b[1G86.1 MiB [] 14% 1.8s\u001b[0K\u001b[1G86.1 MiB [] 15% 1.7s\u001b[0K\u001b[1G86.1 MiB [] 16% 1.7s\u001b[0K\u001b[1G86.1 MiB [] 17% 1.7s\u001b[0K\u001b[1G86.1 MiB [] 18% 1.6s\u001b[0K\u001b[1G86.1 MiB [] 20% 1.5s\u001b[0K\u001b[1G86.1 MiB [] 21% 1.4s\u001b[0K\u001b[1G86.1 MiB [] 22% 1.4s\u001b[0K\u001b[1G86.1 MiB [] 24% 1.4s\u001b[0K\u001b[1G86.1 MiB [] 25% 1.3s\u001b[0K\u001b[1G86.1 MiB [] 26% 1.3s\u001b[0K\u001b[1G86.1 MiB [] 27% 1.3s\u001b[0K\u001b[1G86.1 MiB [] 28% 1.2s\u001b[0K\u001b[1G86.1 MiB [] 29% 1.2s\u001b[0K\u001b[1G86.1 MiB [] 30% 1.2s\u001b[0K\u001b[1G86.1 MiB [] 32% 1.1s\u001b[0K\u001b[1G86.1 MiB [] 34% 1.1s\u001b[0K\u001b[1G86.1 MiB [] 35% 1.0s\u001b[0K\u001b[1G86.1 MiB [] 37% 1.0s\u001b[0K\u001b[1G86.1 MiB [] 39% 1.0s\u001b[0K\u001b[1G86.1 MiB [] 40% 0.9s\u001b[0K\u001b[1G86.1 MiB [] 42% 0.9s\u001b[0K\u001b[1G86.1 MiB [] 44% 0.8s\u001b[0K\u001b[1G86.1 MiB [] 46% 0.8s\u001b[0K\u001b[1G86.1 MiB [] 47% 0.8s\u001b[0K\u001b[1G86.1 MiB [] 49% 0.7s\u001b[0K\u001b[1G86.1 MiB [] 50% 0.7s\u001b[0K\u001b[1G86.1 MiB [] 52% 0.7s\u001b[0K\u001b[1G86.1 MiB [] 54% 0.6s\u001b[0K\u001b[1G86.1 MiB [] 56% 0.6s\u001b[0K\u001b[1G86.1 MiB [] 57% 0.6s\u001b[0K\u001b[1G86.1 MiB [] 58% 0.6s\u001b[0K\u001b[1G86.1 MiB [] 59% 0.6s\u001b[0K\u001b[1G86.1 MiB [] 60% 0.6s\u001b[0K\u001b[1G86.1 MiB [] 61% 0.5s\u001b[0K\u001b[1G86.1 MiB [] 63% 0.5s\u001b[0K\u001b[1G86.1 MiB [] 64% 0.5s\u001b[0K\u001b[1G86.1 MiB [] 65% 0.5s\u001b[0K\u001b[1G86.1 MiB [] 66% 0.5s\u001b[0K\u001b[1G86.1 MiB [] 67% 0.5s\u001b[0K\u001b[1G86.1 MiB [] 68% 0.5s\u001b[0K\u001b[1G86.1 MiB [] 69% 0.4s\u001b[0K\u001b[1G86.1 MiB [] 70% 0.4s\u001b[0K\u001b[1G86.1 MiB [] 72% 0.4s\u001b[0K\u001b[1G86.1 MiB [] 73% 0.4s\u001b[0K\u001b[1G86.1 MiB [] 75% 0.3s\u001b[0K\u001b[1G86.1 MiB [] 77% 0.3s\u001b[0K\u001b[1G86.1 MiB [] 79% 0.3s\u001b[0K\u001b[1G86.1 MiB [] 80% 0.3s\u001b[0K\u001b[1G86.1 MiB [] 82% 0.2s\u001b[0K\u001b[1G86.1 MiB [] 84% 0.2s\u001b[0K\u001b[1G86.1 MiB [] 85% 0.2s\u001b[0K\u001b[1G86.1 MiB [] 87% 0.2s\u001b[0K\u001b[1G86.1 MiB [] 89% 0.1s\u001b[0K\u001b[1G86.1 MiB [] 91% 0.1s\u001b[0K\u001b[1G86.1 MiB [] 93% 0.1s\u001b[0K\u001b[1G86.1 MiB [] 94% 0.1s\u001b[0K\u001b[1G86.1 MiB [] 96% 0.0s\u001b[0K\u001b[1G86.1 MiB [] 98% 0.0s\u001b[0K\u001b[1G86.1 MiB [] 100% 0.0s\u001b[0K\n",
            "Webkit 17.4 (playwright build v2035) downloaded to /root/.cache/ms-playwright/webkit-2035\n",
            "Playwright Host validation warning: \n",
            "╔══════════════════════════════════════════════════════╗\n",
            "║ Host system is missing dependencies to run browsers. ║\n",
            "║ Missing libraries:                                   ║\n",
            "║     libwoff2dec.so.1.0.2                             ║\n",
            "║     libgstgl-1.0.so.0                                ║\n",
            "║     libgstcodecparsers-1.0.so.0                      ║\n",
            "║     libharfbuzz-icu.so.0                             ║\n",
            "║     libenchant-2.so.2                                ║\n",
            "║     libsecret-1.so.0                                 ║\n",
            "║     libhyphen.so.0                                   ║\n",
            "║     libmanette-0.2.so.0                              ║\n",
            "╚══════════════════════════════════════════════════════╝\n",
            "    at validateDependenciesLinux (/usr/local/lib/python3.10/dist-packages/playwright/driver/package/lib/server/registry/dependencies.js:216:9)\n",
            "\u001b[90m    at process.processTicksAndRejections (node:internal/process/task_queues:95:5)\u001b[39m\n",
            "    at async Registry._validateHostRequirements (/usr/local/lib/python3.10/dist-packages/playwright/driver/package/lib/server/registry/index.js:575:43)\n",
            "    at async Registry._validateHostRequirementsForExecutableIfNeeded (/usr/local/lib/python3.10/dist-packages/playwright/driver/package/lib/server/registry/index.js:673:7)\n",
            "    at async Registry.validateHostRequirementsForExecutablesIfNeeded (/usr/local/lib/python3.10/dist-packages/playwright/driver/package/lib/server/registry/index.js:662:43)\n",
            "    at async t.<anonymous> (/usr/local/lib/python3.10/dist-packages/playwright/driver/package/lib/cli/program.js:119:7)\n"
          ]
        }
      ]
    },
    {
      "cell_type": "code",
      "source": [
        "!apt install chromium-chromedriver"
      ],
      "metadata": {
        "colab": {
          "base_uri": "https://localhost:8080/"
        },
        "id": "Q6b6X1KXtkBm",
        "outputId": "8db5ec2a-f8e4-4911-a16c-8e5d8adfffeb"
      },
      "execution_count": 5,
      "outputs": [
        {
          "output_type": "stream",
          "name": "stdout",
          "text": [
            "Reading package lists... Done\n",
            "Building dependency tree... Done\n",
            "Reading state information... Done\n",
            "The following additional packages will be installed:\n",
            "  apparmor chromium-browser libfuse3-3 liblzo2-2 libudev1 snapd squashfs-tools systemd-hwe-hwdb\n",
            "  udev\n",
            "Suggested packages:\n",
            "  apparmor-profiles-extra apparmor-utils fuse3 zenity | kdialog\n",
            "The following NEW packages will be installed:\n",
            "  apparmor chromium-browser chromium-chromedriver libfuse3-3 liblzo2-2 snapd squashfs-tools\n",
            "  systemd-hwe-hwdb udev\n",
            "The following packages will be upgraded:\n",
            "  libudev1\n",
            "1 upgraded, 9 newly installed, 0 to remove and 44 not upgraded.\n",
            "Need to get 28.5 MB of archives.\n",
            "After this operation, 118 MB of additional disk space will be used.\n",
            "Get:1 http://archive.ubuntu.com/ubuntu jammy-updates/main amd64 apparmor amd64 3.0.4-2ubuntu2.3 [595 kB]\n",
            "Get:2 http://archive.ubuntu.com/ubuntu jammy/main amd64 liblzo2-2 amd64 2.10-2build3 [53.7 kB]\n",
            "Get:3 http://archive.ubuntu.com/ubuntu jammy/main amd64 squashfs-tools amd64 1:4.5-3build1 [159 kB]\n",
            "Get:4 http://archive.ubuntu.com/ubuntu jammy-updates/main amd64 libudev1 amd64 249.11-0ubuntu3.12 [78.2 kB]\n",
            "Get:5 http://archive.ubuntu.com/ubuntu jammy-updates/main amd64 udev amd64 249.11-0ubuntu3.12 [1,557 kB]\n",
            "Get:6 http://archive.ubuntu.com/ubuntu jammy/main amd64 libfuse3-3 amd64 3.10.5-1build1 [81.2 kB]\n",
            "Get:7 http://archive.ubuntu.com/ubuntu jammy-updates/main amd64 snapd amd64 2.63+22.04ubuntu0.1 [25.9 MB]\n",
            "Get:8 http://archive.ubuntu.com/ubuntu jammy-updates/universe amd64 chromium-browser amd64 1:85.0.4183.83-0ubuntu2.22.04.1 [49.2 kB]\n",
            "Get:9 http://archive.ubuntu.com/ubuntu jammy-updates/universe amd64 chromium-chromedriver amd64 1:85.0.4183.83-0ubuntu2.22.04.1 [2,308 B]\n",
            "Get:10 http://archive.ubuntu.com/ubuntu jammy-updates/main amd64 systemd-hwe-hwdb all 249.11.5 [3,228 B]\n",
            "Fetched 28.5 MB in 2s (17.7 MB/s)\n",
            "Preconfiguring packages ...\n",
            "Selecting previously unselected package apparmor.\n",
            "(Reading database ... 123594 files and directories currently installed.)\n",
            "Preparing to unpack .../apparmor_3.0.4-2ubuntu2.3_amd64.deb ...\n",
            "Unpacking apparmor (3.0.4-2ubuntu2.3) ...\n",
            "Selecting previously unselected package liblzo2-2:amd64.\n",
            "Preparing to unpack .../liblzo2-2_2.10-2build3_amd64.deb ...\n",
            "Unpacking liblzo2-2:amd64 (2.10-2build3) ...\n",
            "Selecting previously unselected package squashfs-tools.\n",
            "Preparing to unpack .../squashfs-tools_1%3a4.5-3build1_amd64.deb ...\n",
            "Unpacking squashfs-tools (1:4.5-3build1) ...\n",
            "Preparing to unpack .../libudev1_249.11-0ubuntu3.12_amd64.deb ...\n",
            "Unpacking libudev1:amd64 (249.11-0ubuntu3.12) over (249.11-0ubuntu3.10) ...\n",
            "Setting up libudev1:amd64 (249.11-0ubuntu3.12) ...\n",
            "Selecting previously unselected package udev.\n",
            "(Reading database ... 123802 files and directories currently installed.)\n",
            "Preparing to unpack .../udev_249.11-0ubuntu3.12_amd64.deb ...\n",
            "Unpacking udev (249.11-0ubuntu3.12) ...\n",
            "Selecting previously unselected package libfuse3-3:amd64.\n",
            "Preparing to unpack .../libfuse3-3_3.10.5-1build1_amd64.deb ...\n",
            "Unpacking libfuse3-3:amd64 (3.10.5-1build1) ...\n",
            "Selecting previously unselected package snapd.\n",
            "Preparing to unpack .../snapd_2.63+22.04ubuntu0.1_amd64.deb ...\n",
            "Unpacking snapd (2.63+22.04ubuntu0.1) ...\n",
            "Setting up apparmor (3.0.4-2ubuntu2.3) ...\n",
            "Created symlink /etc/systemd/system/sysinit.target.wants/apparmor.service → /lib/systemd/system/apparmor.service.\n",
            "Setting up liblzo2-2:amd64 (2.10-2build3) ...\n",
            "Setting up squashfs-tools (1:4.5-3build1) ...\n",
            "Setting up udev (249.11-0ubuntu3.12) ...\n",
            "invoke-rc.d: could not determine current runlevel\n",
            "invoke-rc.d: policy-rc.d denied execution of start.\n",
            "Setting up libfuse3-3:amd64 (3.10.5-1build1) ...\n",
            "Setting up snapd (2.63+22.04ubuntu0.1) ...\n",
            "Created symlink /etc/systemd/system/multi-user.target.wants/snapd.apparmor.service → /lib/systemd/system/snapd.apparmor.service.\n",
            "Created symlink /etc/systemd/system/multi-user.target.wants/snapd.autoimport.service → /lib/systemd/system/snapd.autoimport.service.\n",
            "Created symlink /etc/systemd/system/multi-user.target.wants/snapd.core-fixup.service → /lib/systemd/system/snapd.core-fixup.service.\n",
            "Created symlink /etc/systemd/system/multi-user.target.wants/snapd.recovery-chooser-trigger.service → /lib/systemd/system/snapd.recovery-chooser-trigger.service.\n",
            "Created symlink /etc/systemd/system/multi-user.target.wants/snapd.seeded.service → /lib/systemd/system/snapd.seeded.service.\n",
            "Created symlink /etc/systemd/system/cloud-final.service.wants/snapd.seeded.service → /lib/systemd/system/snapd.seeded.service.\n",
            "Unit /lib/systemd/system/snapd.seeded.service is added as a dependency to a non-existent unit cloud-final.service.\n",
            "Created symlink /etc/systemd/system/multi-user.target.wants/snapd.service → /lib/systemd/system/snapd.service.\n",
            "Created symlink /etc/systemd/system/timers.target.wants/snapd.snap-repair.timer → /lib/systemd/system/snapd.snap-repair.timer.\n",
            "Created symlink /etc/systemd/system/sockets.target.wants/snapd.socket → /lib/systemd/system/snapd.socket.\n",
            "Created symlink /etc/systemd/system/final.target.wants/snapd.system-shutdown.service → /lib/systemd/system/snapd.system-shutdown.service.\n",
            "Selecting previously unselected package chromium-browser.\n",
            "(Reading database ... 124032 files and directories currently installed.)\n",
            "Preparing to unpack .../chromium-browser_1%3a85.0.4183.83-0ubuntu2.22.04.1_amd64.deb ...\n",
            "=> Installing the chromium snap\n",
            "==> Checking connectivity with the snap store\n",
            "===> System doesn't have a working snapd, skipping\n",
            "Unpacking chromium-browser (1:85.0.4183.83-0ubuntu2.22.04.1) ...\n",
            "Selecting previously unselected package chromium-chromedriver.\n",
            "Preparing to unpack .../chromium-chromedriver_1%3a85.0.4183.83-0ubuntu2.22.04.1_amd64.deb ...\n",
            "Unpacking chromium-chromedriver (1:85.0.4183.83-0ubuntu2.22.04.1) ...\n",
            "Selecting previously unselected package systemd-hwe-hwdb.\n",
            "Preparing to unpack .../systemd-hwe-hwdb_249.11.5_all.deb ...\n",
            "Unpacking systemd-hwe-hwdb (249.11.5) ...\n",
            "Setting up systemd-hwe-hwdb (249.11.5) ...\n",
            "Setting up chromium-browser (1:85.0.4183.83-0ubuntu2.22.04.1) ...\n",
            "update-alternatives: using /usr/bin/chromium-browser to provide /usr/bin/x-www-browser (x-www-browser) in auto mode\n",
            "update-alternatives: using /usr/bin/chromium-browser to provide /usr/bin/gnome-www-browser (gnome-www-browser) in auto mode\n",
            "Setting up chromium-chromedriver (1:85.0.4183.83-0ubuntu2.22.04.1) ...\n",
            "Processing triggers for udev (249.11-0ubuntu3.12) ...\n",
            "Processing triggers for hicolor-icon-theme (0.17-2) ...\n",
            "Processing triggers for libc-bin (2.35-0ubuntu3.4) ...\n",
            "/sbin/ldconfig.real: /usr/local/lib/libur_adapter_opencl.so.0 is not a symbolic link\n",
            "\n",
            "/sbin/ldconfig.real: /usr/local/lib/libur_loader.so.0 is not a symbolic link\n",
            "\n",
            "/sbin/ldconfig.real: /usr/local/lib/libtbbmalloc.so.2 is not a symbolic link\n",
            "\n",
            "/sbin/ldconfig.real: /usr/local/lib/libur_adapter_level_zero.so.0 is not a symbolic link\n",
            "\n",
            "/sbin/ldconfig.real: /usr/local/lib/libtbbmalloc_proxy.so.2 is not a symbolic link\n",
            "\n",
            "/sbin/ldconfig.real: /usr/local/lib/libtbb.so.12 is not a symbolic link\n",
            "\n",
            "/sbin/ldconfig.real: /usr/local/lib/libtbbbind.so.3 is not a symbolic link\n",
            "\n",
            "/sbin/ldconfig.real: /usr/local/lib/libtbbbind_2_0.so.3 is not a symbolic link\n",
            "\n",
            "/sbin/ldconfig.real: /usr/local/lib/libtbbbind_2_5.so.3 is not a symbolic link\n",
            "\n",
            "Processing triggers for man-db (2.10.2-1) ...\n",
            "Processing triggers for dbus (1.12.20-2ubuntu4.1) ...\n"
          ]
        }
      ]
    },
    {
      "cell_type": "code",
      "source": [
        "!pip install nest_asyncio\n"
      ],
      "metadata": {
        "colab": {
          "base_uri": "https://localhost:8080/"
        },
        "id": "sj4Z4nfutlUa",
        "outputId": "b4f7bc8f-f72a-450e-8224-ec96f87d9231"
      },
      "execution_count": 6,
      "outputs": [
        {
          "output_type": "stream",
          "name": "stdout",
          "text": [
            "Requirement already satisfied: nest_asyncio in /usr/local/lib/python3.10/dist-packages (1.6.0)\n"
          ]
        }
      ]
    },
    {
      "cell_type": "code",
      "source": [
        "from playwright.sync_api import sync_playwright\n",
        "from dataclasses import dataclass, asdict, field\n",
        "import pandas as pd\n",
        "import os\n",
        "\n",
        "@dataclass\n",
        "class Business:\n",
        "    name: str = None\n",
        "    address: str = None\n",
        "    website: str = None\n",
        "    phone_number: str = None\n",
        "    reviews_count: int = None\n",
        "    reviews_average: float = None\n",
        "    latitude: float = None\n",
        "    longitude: float = None\n",
        "\n",
        "@dataclass\n",
        "class BusinessList:\n",
        "    business_list: list[Business] = field(default_factory=list)\n",
        "\n",
        "    def dataframe(self):\n",
        "        return pd.json_normalize(\n",
        "            (asdict(business) for business in self.business_list), sep=\"_\"\n",
        "        )\n",
        "\n",
        "    def save_to_excel(self, filename):\n",
        "        self.dataframe().to_excel(f\"{filename}.xlsx\", index=False)\n",
        "\n",
        "    def save_to_csv(self, filename):\n",
        "        self.dataframe().to_csv(f\"{filename}.csv\", index=False)\n",
        "\n",
        "def extract_coordinates_from_url(url: str) -> tuple[float,float]:\n",
        "    \"\"\"helper function to extract coordinates from url\"\"\"\n",
        "    coordinates = url.split('/@')[-1].split('/')[0]\n",
        "    # return latitude, longitude\n",
        "    return float(coordinates.split(',')[0]), float(coordinates.split(',')[1])\n"
      ],
      "metadata": {
        "id": "KLLuMtKosg0q"
      },
      "execution_count": 7,
      "outputs": []
    },
    {
      "cell_type": "code",
      "source": [
        "# Directly set your search parameters\n",
        "search_list = [\"Escape Room London\"]  # Replace with your desired search term\n",
        "total = 20  # Set the total number of results to scrape"
      ],
      "metadata": {
        "id": "8T2_Q9tVspMg"
      },
      "execution_count": 8,
      "outputs": []
    },
    {
      "cell_type": "code",
      "source": [
        "from google.colab import drive\n",
        "drive.mount('/content/drive')"
      ],
      "metadata": {
        "colab": {
          "base_uri": "https://localhost:8080/"
        },
        "id": "ToSF5Ug7mi9D",
        "outputId": "2f859ace-a31b-4b55-d3cf-7a003fbc1a37"
      },
      "execution_count": 9,
      "outputs": [
        {
          "output_type": "stream",
          "name": "stdout",
          "text": [
            "Drive already mounted at /content/drive; to attempt to forcibly remount, call drive.mount(\"/content/drive\", force_remount=True).\n"
          ]
        }
      ]
    },
    {
      "cell_type": "code",
      "source": [],
      "metadata": {
        "id": "t3SjWjGdpV-1"
      },
      "execution_count": 9,
      "outputs": []
    },
    {
      "cell_type": "code",
      "source": [
        "import nest_asyncio\n",
        "nest_asyncio.apply()\n",
        "\n",
        "import asyncio\n",
        "from playwright.async_api import async_playwright\n",
        "async def main(search_list,total):\n",
        "  async with async_playwright() as p:\n",
        "    browser = await p.chromium.launch(headless=True)\n",
        "    page = await browser.new_page()\n",
        "    await page.goto(\"https://www.google.com/maps\")\n",
        "        # wait is added for dev phase. can remove it in production\n",
        "    await page.wait_for_timeout(5000)\n",
        "    await page.wait_for_load_state('networkidle')\n",
        "\n",
        "    for search_for_index, search_for in enumerate(search_list):\n",
        "            print(f\"-----\\n{search_for_index} - {search_for}\".strip())\n",
        "            try:\n",
        "              search_input= page.locator('input#searchboxinput')\n",
        "              await search_input.fill(search_for)\n",
        "              await page.wait_for_timeout(5000)\n",
        "            except TimeoutError:\n",
        "              print(f\"TimeoutError: Could not find search input field for '{search_for}'. Skipping...\")\n",
        "              continue\n",
        "            await page.keyboard.press(\"Enter\")\n",
        "            await page.wait_for_timeout(5000)\n",
        "\n",
        "            # scrolling\n",
        "\n",
        "            await page.hover('//a[contains(@href, \"https://www.google.com/maps/place\")]')\n",
        "\n",
        "            # this variable is used to detect if the bot\n",
        "            # scraped the same number of listings in the previous iteration\n",
        "\n",
        "            previously_counted = set()\n",
        "            while True:\n",
        "                await page.mouse.wheel(0, 10000)\n",
        "                await page.wait_for_timeout(3000)\n",
        "                count = await page.locator('//a[contains(@href, \"https://www.google.com/maps/place\")]').all()\n",
        "                total_count_set = set(count)\n",
        "\n",
        "                new_unique_links = total_count_set - previously_counted\n",
        "                previously_counted.update(new_unique_links)\n",
        "                total_count = len(previously_counted)\n",
        "\n",
        "\n",
        "                if total_count > total:\n",
        "                    #listings = all_listings[:total]\n",
        "                    all_listings = list(previously_counted)[:total]\n",
        "                    print(f\"Total Scraped: {len(all_listings)}\")\n",
        "                    break\n",
        "                else:\n",
        "                    print(f\"Currently Scraped: {len(previously_counted)}\")\n",
        "                    await page.wait_for_timeout(3000)\n",
        "\n",
        "            business_list = BusinessList()\n",
        "\n",
        "            # scraping\n",
        "            for listing in all_listings:\n",
        "                try:\n",
        "                    await listing.click()\n",
        "                    await page.wait_for_timeout(5000)\n",
        "\n",
        "                    name_xpath = '//h1[@class=\"DUwDvf lfPIob\"]'\n",
        "                    address_xpath = '//button[@data-item-id=\"address\"]//div[contains(@class, \"fontBodyMedium\")]'\n",
        "                    website_xpath = '//a[@data-item-id=\"authority\"]//div[contains(@class, \"fontBodyMedium\")]'\n",
        "                    phone_number_xpath = '//button[contains(@data-item-id, \"phone:tel:\")]//div[contains(@class, \"fontBodyMedium\")]'\n",
        "                    review_count_xpath = '//span[contains(@aria-label, \"reviews\")]'\n",
        "                    reviews_average_xpath = '//div[@jsaction=\"pane.reviewChart.moreReviews\"]//div[@role=\"img\"]'\n",
        "\n",
        "\n",
        "                    business = Business()\n",
        "                    names =  await page.query_selector(name_xpath)\n",
        "                    address = await page.query_selector(address_xpath)\n",
        "                    website = await page.query_selector(website_xpath)\n",
        "                    phone_number = await page.query_selector(phone_number_xpath)\n",
        "                    review_count = await page.query_selector(review_count_xpath)\n",
        "                    reviews_average = await page.query_selector(reviews_average_xpath)\n",
        "\n",
        "\n",
        "                    if names:\n",
        "                        business.name = await names.inner_text()\n",
        "                        print(f\"Extracted name: {business.name}\")\n",
        "                    else:\n",
        "                        print(\"No aria-label found for this listing.\")\n",
        "                        business.name = \"\"\n",
        "                    if address:\n",
        "                        business.address = await address.inner_text()\n",
        "                    else:\n",
        "                        business.address = \"\"\n",
        "                    if website:\n",
        "                        business.website = await website.inner_text()\n",
        "                    else:\n",
        "                        business.website = \"\"\n",
        "                    if phone_number:\n",
        "                        business.phone_number = await phone_number.inner_text()\n",
        "                    else:\n",
        "                        business.phone_number = \"\"\n",
        "                    if review_count:\n",
        "                        review_count_text = await review_count.inner_text()\n",
        "                        review_count_text_clean = review_count_text.replace('(','').replace(')','').replace(',','').strip()\n",
        "                        try:\n",
        "                          business.reviews_count = int(review_count_text_clean)\n",
        "\n",
        "                        except ValueError:\n",
        "                          business.reviews_count = \"\"\n",
        "                          print(f\"Extracted review count: {business.reviews_count}\")\n",
        "\n",
        "                    else:\n",
        "                        business.reviews_count = \"\"\n",
        "\n",
        "                    if reviews_average:\n",
        "                        reviews_average_text = await reviews_average.get_attribute('aria-label')\n",
        "                        business.reviews_average =float(reviews_average_text\n",
        "                            .split()[0]\n",
        "                            .replace(',','.')\n",
        "                            .strip())\n",
        "                    else:\n",
        "                        business.reviews_average = \"\"\n",
        "\n",
        "\n",
        "                    business.latitude, business.longitude = extract_coordinates_from_url(page.url)\n",
        "\n",
        "                    business_list.business_list.append(business)\n",
        "                except Exception as e:\n",
        "                    print(f'Error occured: {e}')\n",
        "\n",
        "            #print(business_list.dataframe())\n",
        "            print(\"Converting business list to DataFrame...\")\n",
        "            df = pd.json_normalize((asdict(business) for business in business_list.business_list), sep=\"_\")\n",
        "            print(\"DataFrame conversion successful, saving to Excel and CSV...\")\n",
        "            df.to_excel(\"google_maps_data.xlsx\", index=False)\n",
        "            df.to_csv(\"google_maps_data.csv\", index=False)\n",
        "            print(\"Business list saved successfully.\")\n",
        "\n",
        "search_list = [\"Escape Rooms London \"]  # Add your search queries\n",
        "total = 50  # Set your desired total number of listings to scrape\n",
        "\n",
        "asyncio.run(main(search_list,total))"
      ],
      "metadata": {
        "colab": {
          "base_uri": "https://localhost:8080/"
        },
        "id": "1aZlj3ahstLk",
        "outputId": "f53c8815-0c16-48bc-9b43-bfeda9ce7c30"
      },
      "execution_count": 12,
      "outputs": [
        {
          "output_type": "stream",
          "name": "stdout",
          "text": [
            "-----\n",
            "0 - Escape Rooms London\n",
            "Currently Scraped: 12\n",
            "Currently Scraped: 30\n",
            "Currently Scraped: 50\n",
            "Total Scraped: 50\n",
            "Extracted name: Escape London\n",
            "Extracted name: Escape Puzzles\n",
            "Extracted name: Escape Rooms London - Escape Land\n",
            "Extracted name: No Escape Oxford St\n",
            "Extracted name: DNA VR\n",
            "Extracted name: clueQuest - The Live Escape Game\n",
            "Extracted name: No Escape (Enigma Escape)\n",
            "Extracted name: Escape Room \"The Butcher\"\n",
            "Extracted name: Escape Hunt Oxford Street\n",
            "Extracted name: Escape from The Golden Hinde\n",
            "Extracted name: Houdini's Escape Room Experience - Farringdon\n",
            "Extracted name: Escape Room \"The Butcher\"\n",
            "Extracted name: Looking for puzzle ideas for your next escape room game?\n",
            "Extracted name: Game Over London\n",
            "Extracted name: Omescape London\n",
            "Extracted name: Game Over London\n",
            "Extracted name: Escape Room \"Cabin Fever\"\n",
            "Extracted name: Escape Room \"Sweeney Todd\"\n",
            "Extracted name: Escape Room \"Sweeney Todd\"\n",
            "Extracted name: Clue Adventures\n",
            "Extracted name: ScreamWorks\n",
            "Extracted name: SENSAS London\n",
            "Extracted name: DNA VR\n",
            "Extracted name: Outdoor Escape Room - The Lost Elephant\n",
            "Extracted name: clueQuest - The Live Escape Game\n",
            "Extracted name: Escape Hunt Oxford Street\n",
            "Extracted name: Secret Studio\n",
            "Extracted name: MISSION: BREAKOUT\n",
            "Extracted name: Escape Room \"The Butcher\"\n",
            "Extracted name: DNA VR\n",
            "Extracted name: Escape Game Events\n",
            "Extracted name: Escape Game Events\n",
            "Extracted name: Game Over London\n",
            "Extracted name: SENSAS London\n",
            "Extracted name: Enigma Quests Shoreditch\n",
            "Extracted name: MISSION: BREAKOUT\n",
            "Extracted name: Secret Studio\n",
            "Extracted name: Escape Room \"Sweeney Todd\"\n",
            "Extracted name: ScreamWorks\n",
            "Extracted name: Clue Adventures\n",
            "Extracted name: clueQuest - The Live Escape Game\n",
            "Extracted name: Outdoor Escape Room - The Lost Elephant\n",
            "Extracted name: ScreamWorks\n",
            "Extracted name: Escape Room \"Cabin Fever\"\n",
            "Extracted name: SENSAS London\n",
            "Extracted name: ScreamWorks\n",
            "Extracted name: Outdoor Escape Room - The Lost Elephant\n",
            "Extracted name: Looking for puzzle ideas for your next escape room game?\n",
            "Extracted name: Clue Adventures\n",
            "Extracted name: Outdoor Escape Room - The Lost Elephant\n",
            "Converting business list to DataFrame...\n",
            "DataFrame conversion successful, saving to Excel and CSV...\n",
            "Business list saved successfully.\n"
          ]
        }
      ]
    }
  ]
}